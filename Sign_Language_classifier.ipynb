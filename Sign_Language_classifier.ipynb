{
  "nbformat": 4,
  "nbformat_minor": 0,
  "metadata": {
    "colab": {
      "name": "Sign Language classifier.ipynb",
      "provenance": [],
      "collapsed_sections": []
    },
    "coursera": {
      "course_slug": "convolutional-neural-networks-tensorflow",
      "graded_item_id": "8mIh8",
      "launcher_item_id": "gg95t"
    },
    "kernelspec": {
      "display_name": "Python 3",
      "language": "python",
      "name": "python3"
    },
    "language_info": {
      "codemirror_mode": {
        "name": "ipython",
        "version": 3
      },
      "file_extension": ".py",
      "mimetype": "text/x-python",
      "name": "python",
      "nbconvert_exporter": "python",
      "pygments_lexer": "ipython3",
      "version": "3.6.8"
    },
    "accelerator": "GPU"
  },
  "cells": [
    {
      "cell_type": "code",
      "metadata": {
        "colab_type": "code",
        "id": "wYtuKeK0dImp",
        "colab": {}
      },
      "source": [
        "import csv\n",
        "import numpy as np\n",
        "import tensorflow as tf\n",
        "from tensorflow.keras.preprocessing.image import ImageDataGenerator\n",
        "from os import getcwd"
      ],
      "execution_count": null,
      "outputs": []
    },
    {
      "cell_type": "code",
      "metadata": {
        "colab_type": "code",
        "id": "4kxw-_rmcnVu",
        "colab": {
          "base_uri": "https://localhost:8080/",
          "height": 119
        },
        "outputId": "ee3ab6f8-f623-45d9-bdb0-2cd2e4b3526e"
      },
      "source": [
        "def get_data(filename):\n",
        "\n",
        "    with open(filename) as training_file:\n",
        "        csv_reader = csv.reader(training_file, delimiter=',')\n",
        "        first_line = True\n",
        "        temp_images = []\n",
        "        temp_labels = []\n",
        "        for row in csv_reader:\n",
        "            if first_line:\n",
        "                print(\"Ignoring first line(Header)\")\n",
        "                first_line = False\n",
        "            else:\n",
        "                temp_labels.append(row[0])\n",
        "                image_data = row[1:785]\n",
        "                image_data_as_array = np.array_split(image_data, 28)\n",
        "                temp_images.append(image_data_as_array)\n",
        "        images = np.array(temp_images).astype('float')\n",
        "        labels = np.array(temp_labels).astype('float')\n",
        "    return images, labels\n",
        "\n",
        "path_sign_mnist_train = f\"{getcwd()}/sign_mnist_train.csv\"\n",
        "path_sign_mnist_test = f\"{getcwd()}/sign_mnist_test.csv\"\n",
        "training_images, training_labels = get_data(path_sign_mnist_train)\n",
        "testing_images, testing_labels = get_data(path_sign_mnist_test)\n",
        "\n",
        "\n",
        "print(training_images.shape)\n",
        "print(training_labels.shape)\n",
        "print(testing_images.shape)\n",
        "print(testing_labels.shape)\n",
        "\n"
      ],
      "execution_count": 9,
      "outputs": [
        {
          "output_type": "stream",
          "text": [
            "Ignoring first line(Header)\n",
            "Ignoring first line(Header)\n",
            "(27455, 28, 28)\n",
            "(27455,)\n",
            "(7172, 28, 28)\n",
            "(7172,)\n"
          ],
          "name": "stdout"
        }
      ]
    },
    {
      "cell_type": "code",
      "metadata": {
        "colab_type": "code",
        "id": "awoqRpyZdQkD",
        "colab": {
          "base_uri": "https://localhost:8080/",
          "height": 51
        },
        "outputId": "8ca6cbfa-747b-4d07-fe6e-346309e5f3b3"
      },
      "source": [
        "\n",
        "training_images = np.expand_dims(training_images, axis=3)\n",
        "testing_images = np.expand_dims(testing_images, axis=3)\n",
        "\n",
        "train_datagen = ImageDataGenerator(\n",
        "    rescale=1. / 255,\n",
        "    rotation_range=40,\n",
        "    width_shift_range=0.2,\n",
        "    height_shift_range=0.2,\n",
        "    shear_range=0.2,\n",
        "    zoom_range=0.2,\n",
        "    horizontal_flip=True,\n",
        "    fill_mode='nearest')\n",
        "\n",
        "validation_datagen = ImageDataGenerator(\n",
        "    rescale=1. / 255)\n",
        "\n",
        "print(training_images.shape)\n",
        "print(testing_images.shape)\n",
        "    \n"
      ],
      "execution_count": 10,
      "outputs": [
        {
          "output_type": "stream",
          "text": [
            "(27455, 28, 28, 1)\n",
            "(7172, 28, 28, 1)\n"
          ],
          "name": "stdout"
        }
      ]
    },
    {
      "cell_type": "code",
      "metadata": {
        "colab_type": "code",
        "id": "Rmb7S32cgRqS",
        "colab": {
          "base_uri": "https://localhost:8080/",
          "height": 1000
        },
        "outputId": "75ab62d7-7473-4202-bf11-408ce58b0713"
      },
      "source": [
        "\n",
        "model = tf.keras.models.Sequential([\n",
        "    tf.keras.layers.Conv2D(64, (3, 3), activation='relu', input_shape=(28, 28, 1)),\n",
        "    tf.keras.layers.MaxPooling2D(2, 2),\n",
        "    tf.keras.layers.Conv2D(64, (3, 3), activation='relu'),\n",
        "    tf.keras.layers.MaxPooling2D(2, 2),\n",
        "    tf.keras.layers.Flatten(),\n",
        "    tf.keras.layers.Dense(128, activation=tf.nn.relu),\n",
        "    tf.keras.layers.Dense(26, activation=tf.nn.softmax)])\n",
        "\n",
        "model.compile(optimizer = 'adam',\n",
        "              loss = 'sparse_categorical_crossentropy',\n",
        "              metrics=['accuracy'])\n",
        "\n",
        "history = model.fit_generator(train_datagen.flow(training_images, training_labels, batch_size=32),\n",
        "                              steps_per_epoch=len(training_images) / 32,\n",
        "                              epochs=50,\n",
        "                              validation_data=validation_datagen.flow(testing_images, testing_labels, batch_size=32),\n",
        "                              validation_steps=len(testing_images) / 32)\n",
        "\n",
        "model.evaluate(testing_images, testing_labels)"
      ],
      "execution_count": 13,
      "outputs": [
        {
          "output_type": "stream",
          "text": [
            "Epoch 1/50\n",
            "858/857 [==============================] - 14s 17ms/step - loss: 2.8050 - accuracy: 0.1448 - val_loss: 2.1547 - val_accuracy: 0.3176\n",
            "Epoch 2/50\n",
            "858/857 [==============================] - 14s 17ms/step - loss: 2.1390 - accuracy: 0.3288 - val_loss: 1.5593 - val_accuracy: 0.4339\n",
            "Epoch 3/50\n",
            "858/857 [==============================] - 14s 17ms/step - loss: 1.7724 - accuracy: 0.4303 - val_loss: 1.3804 - val_accuracy: 0.5484\n",
            "Epoch 4/50\n",
            "858/857 [==============================] - 14s 17ms/step - loss: 1.5262 - accuracy: 0.5057 - val_loss: 1.0263 - val_accuracy: 0.6333\n",
            "Epoch 5/50\n",
            "858/857 [==============================] - 14s 17ms/step - loss: 1.3647 - accuracy: 0.5524 - val_loss: 0.9604 - val_accuracy: 0.6259\n",
            "Epoch 6/50\n",
            "858/857 [==============================] - 14s 17ms/step - loss: 1.2427 - accuracy: 0.5933 - val_loss: 0.9550 - val_accuracy: 0.6615\n",
            "Epoch 7/50\n",
            "858/857 [==============================] - 14s 17ms/step - loss: 1.1451 - accuracy: 0.6245 - val_loss: 0.7208 - val_accuracy: 0.7429\n",
            "Epoch 8/50\n",
            "858/857 [==============================] - 14s 16ms/step - loss: 1.0823 - accuracy: 0.6424 - val_loss: 0.6505 - val_accuracy: 0.7705\n",
            "Epoch 9/50\n",
            "858/857 [==============================] - 14s 16ms/step - loss: 1.0078 - accuracy: 0.6655 - val_loss: 0.6218 - val_accuracy: 0.7684\n",
            "Epoch 10/50\n",
            "858/857 [==============================] - 14s 17ms/step - loss: 0.9627 - accuracy: 0.6762 - val_loss: 0.4861 - val_accuracy: 0.8443\n",
            "Epoch 11/50\n",
            "858/857 [==============================] - 14s 17ms/step - loss: 0.9191 - accuracy: 0.6944 - val_loss: 0.5203 - val_accuracy: 0.8171\n",
            "Epoch 12/50\n",
            "858/857 [==============================] - 15s 17ms/step - loss: 0.8854 - accuracy: 0.7046 - val_loss: 0.6056 - val_accuracy: 0.7709\n",
            "Epoch 13/50\n",
            "858/857 [==============================] - 14s 17ms/step - loss: 0.8450 - accuracy: 0.7201 - val_loss: 0.4197 - val_accuracy: 0.8539\n",
            "Epoch 14/50\n",
            "858/857 [==============================] - 14s 17ms/step - loss: 0.8217 - accuracy: 0.7267 - val_loss: 0.4565 - val_accuracy: 0.8330\n",
            "Epoch 15/50\n",
            "858/857 [==============================] - 14s 17ms/step - loss: 0.7802 - accuracy: 0.7368 - val_loss: 0.3495 - val_accuracy: 0.8825\n",
            "Epoch 16/50\n",
            "858/857 [==============================] - 14s 16ms/step - loss: 0.7496 - accuracy: 0.7483 - val_loss: 0.4133 - val_accuracy: 0.8323\n",
            "Epoch 17/50\n",
            "858/857 [==============================] - 14s 17ms/step - loss: 0.7118 - accuracy: 0.7583 - val_loss: 0.3380 - val_accuracy: 0.8825\n",
            "Epoch 18/50\n",
            "858/857 [==============================] - 15s 17ms/step - loss: 0.7007 - accuracy: 0.7644 - val_loss: 0.3464 - val_accuracy: 0.8737\n",
            "Epoch 19/50\n",
            "858/857 [==============================] - 15s 17ms/step - loss: 0.6796 - accuracy: 0.7723 - val_loss: 0.3117 - val_accuracy: 0.8848\n",
            "Epoch 20/50\n",
            "858/857 [==============================] - 14s 17ms/step - loss: 0.6658 - accuracy: 0.7748 - val_loss: 0.3305 - val_accuracy: 0.8797\n",
            "Epoch 21/50\n",
            "858/857 [==============================] - 14s 17ms/step - loss: 0.6398 - accuracy: 0.7860 - val_loss: 0.3740 - val_accuracy: 0.8675\n",
            "Epoch 22/50\n",
            "858/857 [==============================] - 14s 16ms/step - loss: 0.6307 - accuracy: 0.7910 - val_loss: 0.2831 - val_accuracy: 0.8975\n",
            "Epoch 23/50\n",
            "858/857 [==============================] - 14s 17ms/step - loss: 0.6185 - accuracy: 0.7934 - val_loss: 0.4164 - val_accuracy: 0.8536\n",
            "Epoch 24/50\n",
            "858/857 [==============================] - 14s 17ms/step - loss: 0.5885 - accuracy: 0.8046 - val_loss: 0.3397 - val_accuracy: 0.8825\n",
            "Epoch 25/50\n",
            "858/857 [==============================] - 14s 17ms/step - loss: 0.6026 - accuracy: 0.7989 - val_loss: 0.3659 - val_accuracy: 0.8638\n",
            "Epoch 26/50\n",
            "858/857 [==============================] - 14s 17ms/step - loss: 0.5762 - accuracy: 0.8097 - val_loss: 0.3626 - val_accuracy: 0.8687\n",
            "Epoch 27/50\n",
            "858/857 [==============================] - 14s 16ms/step - loss: 0.5647 - accuracy: 0.8115 - val_loss: 0.4645 - val_accuracy: 0.8344\n",
            "Epoch 28/50\n",
            "858/857 [==============================] - 14s 16ms/step - loss: 0.5518 - accuracy: 0.8142 - val_loss: 0.3098 - val_accuracy: 0.8953\n",
            "Epoch 29/50\n",
            "858/857 [==============================] - 14s 17ms/step - loss: 0.5366 - accuracy: 0.8216 - val_loss: 0.3306 - val_accuracy: 0.8878\n",
            "Epoch 30/50\n",
            "858/857 [==============================] - 14s 16ms/step - loss: 0.5342 - accuracy: 0.8221 - val_loss: 0.2618 - val_accuracy: 0.9083\n",
            "Epoch 31/50\n",
            "858/857 [==============================] - 14s 17ms/step - loss: 0.5248 - accuracy: 0.8240 - val_loss: 0.3161 - val_accuracy: 0.8788\n",
            "Epoch 32/50\n",
            "858/857 [==============================] - 15s 17ms/step - loss: 0.5179 - accuracy: 0.8255 - val_loss: 0.2503 - val_accuracy: 0.9163\n",
            "Epoch 33/50\n",
            "858/857 [==============================] - 15s 17ms/step - loss: 0.5048 - accuracy: 0.8331 - val_loss: 0.2693 - val_accuracy: 0.9056\n",
            "Epoch 34/50\n",
            "858/857 [==============================] - 15s 17ms/step - loss: 0.4948 - accuracy: 0.8369 - val_loss: 0.3749 - val_accuracy: 0.8660\n",
            "Epoch 35/50\n",
            "858/857 [==============================] - 15s 17ms/step - loss: 0.4937 - accuracy: 0.8359 - val_loss: 0.3066 - val_accuracy: 0.8978\n",
            "Epoch 36/50\n",
            "858/857 [==============================] - 14s 16ms/step - loss: 0.4785 - accuracy: 0.8375 - val_loss: 0.2371 - val_accuracy: 0.9169\n",
            "Epoch 37/50\n",
            "858/857 [==============================] - 14s 17ms/step - loss: 0.4862 - accuracy: 0.8394 - val_loss: 0.1882 - val_accuracy: 0.9314\n",
            "Epoch 38/50\n",
            "858/857 [==============================] - 14s 17ms/step - loss: 0.4691 - accuracy: 0.8438 - val_loss: 0.2337 - val_accuracy: 0.9141\n",
            "Epoch 39/50\n",
            "858/857 [==============================] - 14s 17ms/step - loss: 0.4628 - accuracy: 0.8444 - val_loss: 0.3536 - val_accuracy: 0.8869\n",
            "Epoch 40/50\n",
            "858/857 [==============================] - 14s 17ms/step - loss: 0.4430 - accuracy: 0.8506 - val_loss: 0.2592 - val_accuracy: 0.9080\n",
            "Epoch 41/50\n",
            "858/857 [==============================] - 14s 16ms/step - loss: 0.4573 - accuracy: 0.8479 - val_loss: 0.2079 - val_accuracy: 0.9265\n",
            "Epoch 42/50\n",
            "858/857 [==============================] - 14s 17ms/step - loss: 0.4405 - accuracy: 0.8524 - val_loss: 0.2766 - val_accuracy: 0.9017\n",
            "Epoch 43/50\n",
            "858/857 [==============================] - 14s 16ms/step - loss: 0.4312 - accuracy: 0.8561 - val_loss: 0.2793 - val_accuracy: 0.9039\n",
            "Epoch 44/50\n",
            "858/857 [==============================] - 14s 16ms/step - loss: 0.4363 - accuracy: 0.8570 - val_loss: 0.2373 - val_accuracy: 0.9131\n",
            "Epoch 45/50\n",
            "858/857 [==============================] - 14s 17ms/step - loss: 0.4302 - accuracy: 0.8561 - val_loss: 0.3215 - val_accuracy: 0.8940\n",
            "Epoch 46/50\n",
            "858/857 [==============================] - 14s 16ms/step - loss: 0.4156 - accuracy: 0.8629 - val_loss: 0.2219 - val_accuracy: 0.9191\n",
            "Epoch 47/50\n",
            "858/857 [==============================] - 14s 17ms/step - loss: 0.4195 - accuracy: 0.8575 - val_loss: 0.2562 - val_accuracy: 0.9187\n",
            "Epoch 48/50\n",
            "858/857 [==============================] - 14s 16ms/step - loss: 0.4144 - accuracy: 0.8612 - val_loss: 0.2031 - val_accuracy: 0.9297\n",
            "Epoch 49/50\n",
            "858/857 [==============================] - 14s 17ms/step - loss: 0.4119 - accuracy: 0.8624 - val_loss: 0.2412 - val_accuracy: 0.9120\n",
            "Epoch 50/50\n",
            "858/857 [==============================] - 15s 17ms/step - loss: 0.3962 - accuracy: 0.8654 - val_loss: 0.2283 - val_accuracy: 0.9274\n",
            "225/225 [==============================] - 1s 4ms/step - loss: 2464.7468 - accuracy: 0.2262\n"
          ],
          "name": "stdout"
        },
        {
          "output_type": "execute_result",
          "data": {
            "text/plain": [
              "[2464.746826171875, 0.2261572778224945]"
            ]
          },
          "metadata": {
            "tags": []
          },
          "execution_count": 13
        }
      ]
    },
    {
      "cell_type": "code",
      "metadata": {
        "colab_type": "code",
        "id": "_Q3Zpr46dsij",
        "colab": {
          "base_uri": "https://localhost:8080/",
          "height": 545
        },
        "outputId": "cc07a008-d326-4af4-a091-cf88b502aba3"
      },
      "source": [
        "import matplotlib.pyplot as plt\n",
        "\n",
        "acc = history.history['accuracy']\n",
        "val_acc = history.history['val_accuracy']\n",
        "loss = history.history['loss']\n",
        "val_loss = history.history['val_loss']\n",
        "\n",
        "epochs = range(len(acc))\n",
        "\n",
        "plt.plot(epochs, acc, 'r', label='Training accuracy')\n",
        "plt.plot(epochs, val_acc, 'b', label='Validation accuracy')\n",
        "plt.title('Training and validation accuracy')\n",
        "plt.legend()\n",
        "plt.figure()\n",
        "\n",
        "plt.plot(epochs, loss, 'r', label='Training Loss')\n",
        "plt.plot(epochs, val_loss, 'b', label='Validation Loss')\n",
        "plt.title('Training and validation loss')\n",
        "plt.legend()\n",
        "\n",
        "plt.show()\n"
      ],
      "execution_count": 14,
      "outputs": [
        {
          "output_type": "display_data",
          "data": {
            "image/png": "[encoded data removed]",
            "text/plain": [
              "<Figure size 432x288 with 1 Axes>"
            ]
          },
          "metadata": {
            "tags": [],
            "needs_background": "light"
          }
        },
        {
          "output_type": "display_data",
          "data": {
            "image/png": "[encoded data removed]",
            "text/plain": [
              "<Figure size 432x288 with 1 Axes>"
            ]
          },
          "metadata": {
            "tags": [],
            "needs_background": "light"
          }
        }
      ]
    },
    {
      "cell_type": "code",
      "metadata": {
        "id": "PfXGdbz3-KmU",
        "colab_type": "code",
        "colab": {}
      },
      "source": [
        ""
      ],
      "execution_count": 12,
      "outputs": []
    }
  ]
}